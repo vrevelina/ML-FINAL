{
  "nbformat": 4,
  "nbformat_minor": 0,
  "metadata": {
    "kernelspec": {
      "display_name": "Python 3",
      "language": "python",
      "name": "python3"
    },
    "language_info": {
      "codemirror_mode": {
        "name": "ipython",
        "version": 3
      },
      "file_extension": ".py",
      "mimetype": "text/x-python",
      "name": "python",
      "nbconvert_exporter": "python",
      "pygments_lexer": "ipython3",
      "version": "3.7.3"
    },
    "colab": {
      "name": "data_explorationv3.ipynb",
      "provenance": [],
      "collapsed_sections": []
    }
  },
  "cells": [
    {
      "cell_type": "markdown",
      "metadata": {
        "id": "Sncv11sF5a_7",
        "colab_type": "text"
      },
      "source": [
        "## Hospital Data Cleaning"
      ]
    },
    {
      "cell_type": "code",
      "metadata": {
        "id": "269lGZ4b5a_8",
        "colab_type": "code",
        "colab": {}
      },
      "source": [
        "import pandas as pd\n",
        "data = pd.read_csv('AHA_2016_NY_WA_CA.csv')\n",
        "colnames = pd.read_csv('AS2016lay_fieldname.csv')"
      ],
      "execution_count": 0,
      "outputs": []
    },
    {
      "cell_type": "code",
      "metadata": {
        "id": "L4T8sbNM5bAA",
        "colab_type": "code",
        "colab": {}
      },
      "source": [
        "cols = list(colnames['Field Name'])"
      ],
      "execution_count": 0,
      "outputs": []
    },
    {
      "cell_type": "code",
      "metadata": {
        "id": "SwYQmFNz5bAD",
        "colab_type": "code",
        "colab": {}
      },
      "source": [
        "hosp = data.loc[:,cols]"
      ],
      "execution_count": 0,
      "outputs": []
    },
    {
      "cell_type": "code",
      "metadata": {
        "id": "mPvYv76y5bAG",
        "colab_type": "code",
        "outputId": "ae1b713a-1267-49ed-b00c-0cb4aab1626c",
        "colab": {
          "base_uri": "https://localhost:8080/",
          "height": 341
        }
      },
      "source": [
        "hosp.head()"
      ],
      "execution_count": 4,
      "outputs": [
        {
          "output_type": "execute_result",
          "data": {
            "text/html": [
              "<div>\n",
              "<style scoped>\n",
              "    .dataframe tbody tr th:only-of-type {\n",
              "        vertical-align: middle;\n",
              "    }\n",
              "\n",
              "    .dataframe tbody tr th {\n",
              "        vertical-align: top;\n",
              "    }\n",
              "\n",
              "    .dataframe thead th {\n",
              "        text-align: right;\n",
              "    }\n",
              "</style>\n",
              "<table border=\"1\" class=\"dataframe\">\n",
              "  <thead>\n",
              "    <tr style=\"text-align: right;\">\n",
              "      <th></th>\n",
              "      <th>RADMCHI</th>\n",
              "      <th>MNAME</th>\n",
              "      <th>MLOCCITY</th>\n",
              "      <th>MLOCSTCD</th>\n",
              "      <th>MLOCZIP</th>\n",
              "      <th>MSTATE</th>\n",
              "      <th>CNTYNAME</th>\n",
              "      <th>GENBD</th>\n",
              "      <th>PEDBD</th>\n",
              "      <th>MSICBD</th>\n",
              "      <th>CICBD</th>\n",
              "      <th>PEDICBD</th>\n",
              "      <th>SPCICBD</th>\n",
              "      <th>OTHICBD</th>\n",
              "      <th>OTHBD94</th>\n",
              "      <th>OTHOTH</th>\n",
              "      <th>FTTOTH</th>\n",
              "      <th>PTTOTH</th>\n",
              "      <th>FTRNLT</th>\n",
              "      <th>PTRNLT</th>\n",
              "    </tr>\n",
              "  </thead>\n",
              "  <tbody>\n",
              "    <tr>\n",
              "      <th>0</th>\n",
              "      <td>NaN</td>\n",
              "      <td>Bassett Medical Center</td>\n",
              "      <td>Cooperstown</td>\n",
              "      <td>21</td>\n",
              "      <td>13326-1394</td>\n",
              "      <td>NY</td>\n",
              "      <td>Otsego, NY</td>\n",
              "      <td>NaN</td>\n",
              "      <td>NaN</td>\n",
              "      <td>NaN</td>\n",
              "      <td>NaN</td>\n",
              "      <td>NaN</td>\n",
              "      <td>NaN</td>\n",
              "      <td>NaN</td>\n",
              "      <td>NaN</td>\n",
              "      <td>NaN</td>\n",
              "      <td>2296</td>\n",
              "      <td>515</td>\n",
              "      <td>NaN</td>\n",
              "      <td>NaN</td>\n",
              "    </tr>\n",
              "    <tr>\n",
              "      <th>1</th>\n",
              "      <td>0.0</td>\n",
              "      <td>Adirondack Health</td>\n",
              "      <td>Saranac Lake</td>\n",
              "      <td>21</td>\n",
              "      <td>12983-5644</td>\n",
              "      <td>NY</td>\n",
              "      <td>Franklin, NY</td>\n",
              "      <td>34.0</td>\n",
              "      <td>0.0</td>\n",
              "      <td>8.0</td>\n",
              "      <td>0.0</td>\n",
              "      <td>0.0</td>\n",
              "      <td>0.0</td>\n",
              "      <td>0.0</td>\n",
              "      <td>0.0</td>\n",
              "      <td>NaN</td>\n",
              "      <td>671</td>\n",
              "      <td>298</td>\n",
              "      <td>4.0</td>\n",
              "      <td>2.0</td>\n",
              "    </tr>\n",
              "    <tr>\n",
              "      <th>2</th>\n",
              "      <td>0.0</td>\n",
              "      <td>Olean General Hospital</td>\n",
              "      <td>Olean</td>\n",
              "      <td>21</td>\n",
              "      <td>14760-1513</td>\n",
              "      <td>NY</td>\n",
              "      <td>Cattaraugus, NY</td>\n",
              "      <td>138.0</td>\n",
              "      <td>6.0</td>\n",
              "      <td>7.0</td>\n",
              "      <td>7.0</td>\n",
              "      <td>0.0</td>\n",
              "      <td>0.0</td>\n",
              "      <td>0.0</td>\n",
              "      <td>0.0</td>\n",
              "      <td>NaN</td>\n",
              "      <td>724</td>\n",
              "      <td>218</td>\n",
              "      <td>NaN</td>\n",
              "      <td>NaN</td>\n",
              "    </tr>\n",
              "    <tr>\n",
              "      <th>3</th>\n",
              "      <td>0.0</td>\n",
              "      <td>Faxton St. Luke's Healthcare</td>\n",
              "      <td>Utica</td>\n",
              "      <td>21</td>\n",
              "      <td>13502-4830</td>\n",
              "      <td>NY</td>\n",
              "      <td>Oneida, NY</td>\n",
              "      <td>138.0</td>\n",
              "      <td>14.0</td>\n",
              "      <td>14.0</td>\n",
              "      <td>0.0</td>\n",
              "      <td>0.0</td>\n",
              "      <td>24.0</td>\n",
              "      <td>0.0</td>\n",
              "      <td>0.0</td>\n",
              "      <td>NaN</td>\n",
              "      <td>1273</td>\n",
              "      <td>1776</td>\n",
              "      <td>NaN</td>\n",
              "      <td>NaN</td>\n",
              "    </tr>\n",
              "    <tr>\n",
              "      <th>4</th>\n",
              "      <td>NaN</td>\n",
              "      <td>St. Mary's Hospital</td>\n",
              "      <td>Troy</td>\n",
              "      <td>21</td>\n",
              "      <td>12180-1695</td>\n",
              "      <td>NY</td>\n",
              "      <td>Rensselaer, NY</td>\n",
              "      <td>NaN</td>\n",
              "      <td>NaN</td>\n",
              "      <td>NaN</td>\n",
              "      <td>NaN</td>\n",
              "      <td>NaN</td>\n",
              "      <td>NaN</td>\n",
              "      <td>NaN</td>\n",
              "      <td>NaN</td>\n",
              "      <td>NaN</td>\n",
              "      <td>956</td>\n",
              "      <td>378</td>\n",
              "      <td>NaN</td>\n",
              "      <td>NaN</td>\n",
              "    </tr>\n",
              "  </tbody>\n",
              "</table>\n",
              "</div>"
            ],
            "text/plain": [
              "   RADMCHI                         MNAME      MLOCCITY  ...  PTTOTH FTRNLT PTRNLT\n",
              "0      NaN        Bassett Medical Center   Cooperstown  ...     515    NaN    NaN\n",
              "1      0.0             Adirondack Health  Saranac Lake  ...     298    4.0    2.0\n",
              "2      0.0        Olean General Hospital         Olean  ...     218    NaN    NaN\n",
              "3      0.0  Faxton St. Luke's Healthcare         Utica  ...    1776    NaN    NaN\n",
              "4      NaN           St. Mary's Hospital          Troy  ...     378    NaN    NaN\n",
              "\n",
              "[5 rows x 20 columns]"
            ]
          },
          "metadata": {
            "tags": []
          },
          "execution_count": 4
        }
      ]
    },
    {
      "cell_type": "code",
      "metadata": {
        "id": "rVTGmltv5bAK",
        "colab_type": "code",
        "colab": {}
      },
      "source": [
        "hosp = hosp[hosp['RADMCHI']==0]\n",
        "hosp.drop('RADMCHI', axis=1, inplace=True)\n",
        "hosp['TOTALBEDS'] = hosp.iloc[:,7:16].sum(axis=1)\n",
        "hosp['TOTALFULLPERS'] = hosp.iloc[:,[16,18]].sum(axis=1)\n",
        "hosp['TOTALPARTPERS'] = hosp.iloc[:,[17,19]].sum(axis=1)\n",
        "hosp['CNTYNAME'] = hosp['CNTYNAME'].str.rsplit(',',n=1)\n",
        "hosp['COUNTY'] = [el[0] for el in hosp['CNTYNAME']]\n",
        "hosp.reset_index(drop=True, inplace=True)"
      ],
      "execution_count": 0,
      "outputs": []
    },
    {
      "cell_type": "code",
      "metadata": {
        "id": "o-teADb45bAN",
        "colab_type": "code",
        "outputId": "09abe779-05ee-4f06-973c-36d3282c5c2f",
        "colab": {
          "base_uri": "https://localhost:8080/",
          "height": 505
        }
      },
      "source": [
        "hosp.info()"
      ],
      "execution_count": 6,
      "outputs": [
        {
          "output_type": "stream",
          "text": [
            "<class 'pandas.core.frame.DataFrame'>\n",
            "RangeIndex: 457 entries, 0 to 456\n",
            "Data columns (total 23 columns):\n",
            " #   Column         Non-Null Count  Dtype  \n",
            "---  ------         --------------  -----  \n",
            " 0   MNAME          457 non-null    object \n",
            " 1   MLOCCITY       457 non-null    object \n",
            " 2   MLOCSTCD       457 non-null    int64  \n",
            " 3   MLOCZIP        457 non-null    object \n",
            " 4   MSTATE         457 non-null    object \n",
            " 5   CNTYNAME       457 non-null    object \n",
            " 6   GENBD          457 non-null    float64\n",
            " 7   PEDBD          457 non-null    float64\n",
            " 8   MSICBD         457 non-null    float64\n",
            " 9   CICBD          457 non-null    float64\n",
            " 10  PEDICBD        457 non-null    float64\n",
            " 11  SPCICBD        457 non-null    float64\n",
            " 12  OTHICBD        457 non-null    float64\n",
            " 13  OTHBD94        457 non-null    float64\n",
            " 14  OTHOTH         38 non-null     object \n",
            " 15  FTTOTH         457 non-null    int64  \n",
            " 16  PTTOTH         457 non-null    int64  \n",
            " 17  FTRNLT         213 non-null    float64\n",
            " 18  PTRNLT         210 non-null    float64\n",
            " 19  TOTALBEDS      457 non-null    float64\n",
            " 20  TOTALFULLPERS  457 non-null    float64\n",
            " 21  TOTALPARTPERS  457 non-null    float64\n",
            " 22  COUNTY         457 non-null    object \n",
            "dtypes: float64(13), int64(3), object(7)\n",
            "memory usage: 82.2+ KB\n"
          ],
          "name": "stdout"
        }
      ]
    },
    {
      "cell_type": "code",
      "metadata": {
        "id": "U35EHGyh5bAQ",
        "colab_type": "code",
        "colab": {}
      },
      "source": [
        "hosp.drop(hosp.columns[5:19], axis=1, inplace=True)\n",
        "hosp['TOTALBEDS'] = hosp['TOTALBEDS'].astype('int64', copy=True)"
      ],
      "execution_count": 0,
      "outputs": []
    },
    {
      "cell_type": "code",
      "metadata": {
        "scrolled": true,
        "id": "3Sc7h8dX5bAT",
        "colab_type": "code",
        "outputId": "1fb68f89-acdd-42b7-a70d-712d9056b828",
        "colab": {
          "base_uri": "https://localhost:8080/",
          "height": 191
        }
      },
      "source": [
        "hosp.head()"
      ],
      "execution_count": 8,
      "outputs": [
        {
          "output_type": "execute_result",
          "data": {
            "text/html": [
              "<div>\n",
              "<style scoped>\n",
              "    .dataframe tbody tr th:only-of-type {\n",
              "        vertical-align: middle;\n",
              "    }\n",
              "\n",
              "    .dataframe tbody tr th {\n",
              "        vertical-align: top;\n",
              "    }\n",
              "\n",
              "    .dataframe thead th {\n",
              "        text-align: right;\n",
              "    }\n",
              "</style>\n",
              "<table border=\"1\" class=\"dataframe\">\n",
              "  <thead>\n",
              "    <tr style=\"text-align: right;\">\n",
              "      <th></th>\n",
              "      <th>MNAME</th>\n",
              "      <th>MLOCCITY</th>\n",
              "      <th>MLOCSTCD</th>\n",
              "      <th>MLOCZIP</th>\n",
              "      <th>MSTATE</th>\n",
              "      <th>TOTALBEDS</th>\n",
              "      <th>TOTALFULLPERS</th>\n",
              "      <th>TOTALPARTPERS</th>\n",
              "      <th>COUNTY</th>\n",
              "    </tr>\n",
              "  </thead>\n",
              "  <tbody>\n",
              "    <tr>\n",
              "      <th>0</th>\n",
              "      <td>Adirondack Health</td>\n",
              "      <td>Saranac Lake</td>\n",
              "      <td>21</td>\n",
              "      <td>12983-5644</td>\n",
              "      <td>NY</td>\n",
              "      <td>679</td>\n",
              "      <td>300.0</td>\n",
              "      <td>683.0</td>\n",
              "      <td>Franklin</td>\n",
              "    </tr>\n",
              "    <tr>\n",
              "      <th>1</th>\n",
              "      <td>Olean General Hospital</td>\n",
              "      <td>Olean</td>\n",
              "      <td>21</td>\n",
              "      <td>14760-1513</td>\n",
              "      <td>NY</td>\n",
              "      <td>744</td>\n",
              "      <td>218.0</td>\n",
              "      <td>744.0</td>\n",
              "      <td>Cattaraugus</td>\n",
              "    </tr>\n",
              "    <tr>\n",
              "      <th>2</th>\n",
              "      <td>Faxton St. Luke's Healthcare</td>\n",
              "      <td>Utica</td>\n",
              "      <td>21</td>\n",
              "      <td>13502-4830</td>\n",
              "      <td>NY</td>\n",
              "      <td>1325</td>\n",
              "      <td>1776.0</td>\n",
              "      <td>1325.0</td>\n",
              "      <td>Oneida</td>\n",
              "    </tr>\n",
              "    <tr>\n",
              "      <th>3</th>\n",
              "      <td>Mid-Hudson Forensic Psychiatric Center</td>\n",
              "      <td>New Hampton</td>\n",
              "      <td>21</td>\n",
              "      <td>10958</td>\n",
              "      <td>NY</td>\n",
              "      <td>551</td>\n",
              "      <td>0.0</td>\n",
              "      <td>551.0</td>\n",
              "      <td>Orange</td>\n",
              "    </tr>\n",
              "    <tr>\n",
              "      <th>4</th>\n",
              "      <td>New York-Presbyterian Hospital</td>\n",
              "      <td>New York</td>\n",
              "      <td>21</td>\n",
              "      <td>10065-4870</td>\n",
              "      <td>NY</td>\n",
              "      <td>21949</td>\n",
              "      <td>1440.0</td>\n",
              "      <td>21949.0</td>\n",
              "      <td>New York</td>\n",
              "    </tr>\n",
              "  </tbody>\n",
              "</table>\n",
              "</div>"
            ],
            "text/plain": [
              "                                    MNAME  ...       COUNTY\n",
              "0                       Adirondack Health  ...     Franklin\n",
              "1                  Olean General Hospital  ...  Cattaraugus\n",
              "2            Faxton St. Luke's Healthcare  ...       Oneida\n",
              "3  Mid-Hudson Forensic Psychiatric Center  ...       Orange\n",
              "4          New York-Presbyterian Hospital  ...     New York\n",
              "\n",
              "[5 rows x 9 columns]"
            ]
          },
          "metadata": {
            "tags": []
          },
          "execution_count": 8
        }
      ]
    },
    {
      "cell_type": "code",
      "metadata": {
        "id": "8TI2g6HU5bAd",
        "colab_type": "code",
        "outputId": "83f21817-c486-4069-c345-002c39753dc4",
        "colab": {
          "base_uri": "https://localhost:8080/",
          "height": 277
        }
      },
      "source": [
        "hosp.info()"
      ],
      "execution_count": 10,
      "outputs": [
        {
          "output_type": "stream",
          "text": [
            "<class 'pandas.core.frame.DataFrame'>\n",
            "RangeIndex: 457 entries, 0 to 456\n",
            "Data columns (total 9 columns):\n",
            " #   Column         Non-Null Count  Dtype  \n",
            "---  ------         --------------  -----  \n",
            " 0   MNAME          457 non-null    object \n",
            " 1   MLOCCITY       457 non-null    object \n",
            " 2   MLOCSTCD       457 non-null    int64  \n",
            " 3   MLOCZIP        457 non-null    object \n",
            " 4   MSTATE         457 non-null    object \n",
            " 5   TOTALBEDS      457 non-null    int64  \n",
            " 6   TOTALFULLPERS  457 non-null    float64\n",
            " 7   TOTALPARTPERS  457 non-null    float64\n",
            " 8   COUNTY         457 non-null    object \n",
            "dtypes: float64(2), int64(2), object(5)\n",
            "memory usage: 32.3+ KB\n"
          ],
          "name": "stdout"
        }
      ]
    },
    {
      "cell_type": "markdown",
      "metadata": {
        "id": "c5nHURKa5bAg",
        "colab_type": "text"
      },
      "source": [
        "## Cases Data Cleaning"
      ]
    },
    {
      "cell_type": "code",
      "metadata": {
        "id": "npUVTK0K5bAh",
        "colab_type": "code",
        "outputId": "c9661626-b75c-4a78-ebb3-10b720799839",
        "colab": {
          "base_uri": "https://localhost:8080/",
          "height": 191
        }
      },
      "source": [
        "cases_raw = pd.read_csv('usa_county_wise.csv')\n",
        "state_df = cases_raw[(cases_raw['Province_State'] == 'California') | (cases_raw['Province_State'] == 'New York') | (cases_raw['Province_State'] == 'Washington')]\n",
        "state_df.head()"
      ],
      "execution_count": 239,
      "outputs": [
        {
          "output_type": "execute_result",
          "data": {
            "text/html": [
              "<div>\n",
              "<style scoped>\n",
              "    .dataframe tbody tr th:only-of-type {\n",
              "        vertical-align: middle;\n",
              "    }\n",
              "\n",
              "    .dataframe tbody tr th {\n",
              "        vertical-align: top;\n",
              "    }\n",
              "\n",
              "    .dataframe thead th {\n",
              "        text-align: right;\n",
              "    }\n",
              "</style>\n",
              "<table border=\"1\" class=\"dataframe\">\n",
              "  <thead>\n",
              "    <tr style=\"text-align: right;\">\n",
              "      <th></th>\n",
              "      <th>UID</th>\n",
              "      <th>iso2</th>\n",
              "      <th>iso3</th>\n",
              "      <th>code3</th>\n",
              "      <th>FIPS</th>\n",
              "      <th>Admin2</th>\n",
              "      <th>Province_State</th>\n",
              "      <th>Country_Region</th>\n",
              "      <th>Lat</th>\n",
              "      <th>Long_</th>\n",
              "      <th>Combined_Key</th>\n",
              "      <th>Date</th>\n",
              "      <th>Confirmed</th>\n",
              "      <th>Deaths</th>\n",
              "    </tr>\n",
              "  </thead>\n",
              "  <tbody>\n",
              "    <tr>\n",
              "      <th>191</th>\n",
              "      <td>84006001</td>\n",
              "      <td>US</td>\n",
              "      <td>USA</td>\n",
              "      <td>840</td>\n",
              "      <td>6001.0</td>\n",
              "      <td>Alameda</td>\n",
              "      <td>California</td>\n",
              "      <td>US</td>\n",
              "      <td>37.646294</td>\n",
              "      <td>-121.892927</td>\n",
              "      <td>Alameda, California, US</td>\n",
              "      <td>1/22/20</td>\n",
              "      <td>0</td>\n",
              "      <td>0</td>\n",
              "    </tr>\n",
              "    <tr>\n",
              "      <th>192</th>\n",
              "      <td>84006003</td>\n",
              "      <td>US</td>\n",
              "      <td>USA</td>\n",
              "      <td>840</td>\n",
              "      <td>6003.0</td>\n",
              "      <td>Alpine</td>\n",
              "      <td>California</td>\n",
              "      <td>US</td>\n",
              "      <td>38.596786</td>\n",
              "      <td>-119.822359</td>\n",
              "      <td>Alpine, California, US</td>\n",
              "      <td>1/22/20</td>\n",
              "      <td>0</td>\n",
              "      <td>0</td>\n",
              "    </tr>\n",
              "    <tr>\n",
              "      <th>193</th>\n",
              "      <td>84006005</td>\n",
              "      <td>US</td>\n",
              "      <td>USA</td>\n",
              "      <td>840</td>\n",
              "      <td>6005.0</td>\n",
              "      <td>Amador</td>\n",
              "      <td>California</td>\n",
              "      <td>US</td>\n",
              "      <td>38.445831</td>\n",
              "      <td>-120.656960</td>\n",
              "      <td>Amador, California, US</td>\n",
              "      <td>1/22/20</td>\n",
              "      <td>0</td>\n",
              "      <td>0</td>\n",
              "    </tr>\n",
              "    <tr>\n",
              "      <th>194</th>\n",
              "      <td>84006007</td>\n",
              "      <td>US</td>\n",
              "      <td>USA</td>\n",
              "      <td>840</td>\n",
              "      <td>6007.0</td>\n",
              "      <td>Butte</td>\n",
              "      <td>California</td>\n",
              "      <td>US</td>\n",
              "      <td>39.667278</td>\n",
              "      <td>-121.600525</td>\n",
              "      <td>Butte, California, US</td>\n",
              "      <td>1/22/20</td>\n",
              "      <td>0</td>\n",
              "      <td>0</td>\n",
              "    </tr>\n",
              "    <tr>\n",
              "      <th>195</th>\n",
              "      <td>84006009</td>\n",
              "      <td>US</td>\n",
              "      <td>USA</td>\n",
              "      <td>840</td>\n",
              "      <td>6009.0</td>\n",
              "      <td>Calaveras</td>\n",
              "      <td>California</td>\n",
              "      <td>US</td>\n",
              "      <td>38.205371</td>\n",
              "      <td>-120.552913</td>\n",
              "      <td>Calaveras, California, US</td>\n",
              "      <td>1/22/20</td>\n",
              "      <td>0</td>\n",
              "      <td>0</td>\n",
              "    </tr>\n",
              "  </tbody>\n",
              "</table>\n",
              "</div>"
            ],
            "text/plain": [
              "          UID iso2 iso3  ...     Date  Confirmed Deaths\n",
              "191  84006001   US  USA  ...  1/22/20          0      0\n",
              "192  84006003   US  USA  ...  1/22/20          0      0\n",
              "193  84006005   US  USA  ...  1/22/20          0      0\n",
              "194  84006007   US  USA  ...  1/22/20          0      0\n",
              "195  84006009   US  USA  ...  1/22/20          0      0\n",
              "\n",
              "[5 rows x 14 columns]"
            ]
          },
          "metadata": {
            "tags": []
          },
          "execution_count": 239
        }
      ]
    },
    {
      "cell_type": "code",
      "metadata": {
        "id": "amLXYFjr5bAm",
        "colab_type": "code",
        "outputId": "7e530904-05c2-41e2-b80d-e5570f003ba8",
        "colab": {
          "base_uri": "https://localhost:8080/",
          "height": 98
        }
      },
      "source": [
        "cases = state_df[(state_df['FIPS']!=80006) & (state_df['FIPS']!=90006) & (state_df['FIPS']!=80036) & (state_df['FIPS']!=90036) & (state_df['FIPS']!=80053) & (state_df['FIPS']!=90053)]\n",
        "cases.rename(columns={'Admin2': 'County'}, inplace=True)"
      ],
      "execution_count": 240,
      "outputs": [
        {
          "output_type": "stream",
          "text": [
            "/usr/local/lib/python3.6/dist-packages/pandas/core/frame.py:4133: SettingWithCopyWarning: \n",
            "A value is trying to be set on a copy of a slice from a DataFrame\n",
            "\n",
            "See the caveats in the documentation: https://pandas.pydata.org/pandas-docs/stable/user_guide/indexing.html#returning-a-view-versus-a-copy\n",
            "  errors=errors,\n"
          ],
          "name": "stderr"
        }
      ]
    },
    {
      "cell_type": "code",
      "metadata": {
        "id": "aM8_29Wa5bAt",
        "colab_type": "code",
        "outputId": "e2611954-b724-4cdd-eccf-55d21d1cf408",
        "colab": {
          "base_uri": "https://localhost:8080/",
          "height": 272
        }
      },
      "source": [
        "cases.reset_index(drop=True, inplace=True)\n",
        "cases.drop(['UID','iso2','iso3','code3','FIPS','County','Country_Region','Combined_Key'], axis=1, inplace=True)\n",
        "cases.head()"
      ],
      "execution_count": 241,
      "outputs": [
        {
          "output_type": "stream",
          "text": [
            "/usr/local/lib/python3.6/dist-packages/pandas/core/frame.py:3997: SettingWithCopyWarning: \n",
            "A value is trying to be set on a copy of a slice from a DataFrame\n",
            "\n",
            "See the caveats in the documentation: https://pandas.pydata.org/pandas-docs/stable/user_guide/indexing.html#returning-a-view-versus-a-copy\n",
            "  errors=errors,\n"
          ],
          "name": "stderr"
        },
        {
          "output_type": "execute_result",
          "data": {
            "text/html": [
              "<div>\n",
              "<style scoped>\n",
              "    .dataframe tbody tr th:only-of-type {\n",
              "        vertical-align: middle;\n",
              "    }\n",
              "\n",
              "    .dataframe tbody tr th {\n",
              "        vertical-align: top;\n",
              "    }\n",
              "\n",
              "    .dataframe thead th {\n",
              "        text-align: right;\n",
              "    }\n",
              "</style>\n",
              "<table border=\"1\" class=\"dataframe\">\n",
              "  <thead>\n",
              "    <tr style=\"text-align: right;\">\n",
              "      <th></th>\n",
              "      <th>Province_State</th>\n",
              "      <th>Lat</th>\n",
              "      <th>Long_</th>\n",
              "      <th>Date</th>\n",
              "      <th>Confirmed</th>\n",
              "      <th>Deaths</th>\n",
              "    </tr>\n",
              "  </thead>\n",
              "  <tbody>\n",
              "    <tr>\n",
              "      <th>0</th>\n",
              "      <td>California</td>\n",
              "      <td>37.646294</td>\n",
              "      <td>-121.892927</td>\n",
              "      <td>1/22/20</td>\n",
              "      <td>0</td>\n",
              "      <td>0</td>\n",
              "    </tr>\n",
              "    <tr>\n",
              "      <th>1</th>\n",
              "      <td>California</td>\n",
              "      <td>38.596786</td>\n",
              "      <td>-119.822359</td>\n",
              "      <td>1/22/20</td>\n",
              "      <td>0</td>\n",
              "      <td>0</td>\n",
              "    </tr>\n",
              "    <tr>\n",
              "      <th>2</th>\n",
              "      <td>California</td>\n",
              "      <td>38.445831</td>\n",
              "      <td>-120.656960</td>\n",
              "      <td>1/22/20</td>\n",
              "      <td>0</td>\n",
              "      <td>0</td>\n",
              "    </tr>\n",
              "    <tr>\n",
              "      <th>3</th>\n",
              "      <td>California</td>\n",
              "      <td>39.667278</td>\n",
              "      <td>-121.600525</td>\n",
              "      <td>1/22/20</td>\n",
              "      <td>0</td>\n",
              "      <td>0</td>\n",
              "    </tr>\n",
              "    <tr>\n",
              "      <th>4</th>\n",
              "      <td>California</td>\n",
              "      <td>38.205371</td>\n",
              "      <td>-120.552913</td>\n",
              "      <td>1/22/20</td>\n",
              "      <td>0</td>\n",
              "      <td>0</td>\n",
              "    </tr>\n",
              "  </tbody>\n",
              "</table>\n",
              "</div>"
            ],
            "text/plain": [
              "  Province_State        Lat       Long_     Date  Confirmed  Deaths\n",
              "0     California  37.646294 -121.892927  1/22/20          0       0\n",
              "1     California  38.596786 -119.822359  1/22/20          0       0\n",
              "2     California  38.445831 -120.656960  1/22/20          0       0\n",
              "3     California  39.667278 -121.600525  1/22/20          0       0\n",
              "4     California  38.205371 -120.552913  1/22/20          0       0"
            ]
          },
          "metadata": {
            "tags": []
          },
          "execution_count": 241
        }
      ]
    },
    {
      "cell_type": "code",
      "metadata": {
        "id": "bP5EEVjdyBgp",
        "colab_type": "code",
        "colab": {}
      },
      "source": [
        "cases.to_csv('cases.csv',index=False)"
      ],
      "execution_count": 0,
      "outputs": []
    },
    {
      "cell_type": "markdown",
      "metadata": {
        "id": "zGfY1BRS5bAx",
        "colab_type": "text"
      },
      "source": [
        "## Merge Cases and Hospital Data"
      ]
    },
    {
      "cell_type": "code",
      "metadata": {
        "id": "dqNCYq_byYml",
        "colab_type": "code",
        "colab": {}
      },
      "source": [
        "cases = pd.read_csv('cases.csv')"
      ],
      "execution_count": 0,
      "outputs": []
    },
    {
      "cell_type": "code",
      "metadata": {
        "id": "vL7YojiA6HMk",
        "colab_type": "code",
        "outputId": "7a8e1d71-5435-4417-b749-c1c6cca94cbc",
        "colab": {
          "base_uri": "https://localhost:8080/",
          "height": 212
        }
      },
      "source": [
        "!pip install uszipcode"
      ],
      "execution_count": 246,
      "outputs": [
        {
          "output_type": "stream",
          "text": [
            "Requirement already satisfied: uszipcode in /usr/local/lib/python3.6/dist-packages (0.2.4)\n",
            "Requirement already satisfied: attrs in /usr/local/lib/python3.6/dist-packages (from uszipcode) (19.3.0)\n",
            "Requirement already satisfied: sqlalchemy in /usr/local/lib/python3.6/dist-packages (from uszipcode) (1.3.16)\n",
            "Requirement already satisfied: pathlib-mate in /usr/local/lib/python3.6/dist-packages (from uszipcode) (1.0.0)\n",
            "Requirement already satisfied: requests in /usr/local/lib/python3.6/dist-packages (from uszipcode) (2.23.0)\n",
            "Requirement already satisfied: six in /usr/local/lib/python3.6/dist-packages (from pathlib-mate->uszipcode) (1.12.0)\n",
            "Requirement already satisfied: autopep8 in /usr/local/lib/python3.6/dist-packages (from pathlib-mate->uszipcode) (1.5.2)\n",
            "Requirement already satisfied: chardet<4,>=3.0.2 in /usr/local/lib/python3.6/dist-packages (from requests->uszipcode) (3.0.4)\n",
            "Requirement already satisfied: urllib3!=1.25.0,!=1.25.1,<1.26,>=1.21.1 in /usr/local/lib/python3.6/dist-packages (from requests->uszipcode) (1.24.3)\n",
            "Requirement already satisfied: idna<3,>=2.5 in /usr/local/lib/python3.6/dist-packages (from requests->uszipcode) (2.9)\n",
            "Requirement already satisfied: certifi>=2017.4.17 in /usr/local/lib/python3.6/dist-packages (from requests->uszipcode) (2020.4.5.1)\n",
            "Requirement already satisfied: pycodestyle>=2.5.0 in /usr/local/lib/python3.6/dist-packages (from autopep8->pathlib-mate->uszipcode) (2.5.0)\n"
          ],
          "name": "stdout"
        }
      ]
    },
    {
      "cell_type": "code",
      "metadata": {
        "id": "vXckNTIV5bA_",
        "colab_type": "code",
        "colab": {}
      },
      "source": [
        "# get cities\n",
        "from uszipcode import Zipcode, SearchEngine\n",
        "search = SearchEngine(simple_zipcode=True)\n",
        "\n",
        "samp_lat = cases.loc[:,'Lat'].tolist()\n",
        "samp_long = cases.loc[:,'Long_'].tolist()\n",
        "\n",
        "samp_cities = []\n",
        "for i in range(len(samp_lat)):\n",
        "  result = search.by_coordinates(samp_lat[i],samp_long[i], radius=20, returns=1)\n",
        "  samp_cities.append(result[0].major_city)\n",
        "\n",
        "all_cities = pd.Series(samp_cities)\n",
        "\n",
        "cases['MLOCCITY'] = all_cities\n",
        "\n",
        "cases.to_csv('cases_w_cities.csv', index=False)"
      ],
      "execution_count": 0,
      "outputs": []
    },
    {
      "cell_type": "code",
      "metadata": {
        "id": "cS81FCUW5bBE",
        "colab_type": "code",
        "outputId": "7727b147-44bb-4544-de0e-03a2b1b564a4",
        "colab": {
          "base_uri": "https://localhost:8080/",
          "height": 70
        }
      },
      "source": [
        "# merge datasets\n",
        "import pandas as pd\n",
        "\n",
        "cases = pd.read_csv('cases_w_cities.csv')\n",
        "newhosp = pd.DataFrame(hosp.groupby(['MLOCCITY'])['TOTALBEDS','TOTALFULLPERS','TOTALPARTPERS'].sum().reset_index())\n",
        "\n",
        "data = pd.merge(cases, newhosp, how='inner', on='MLOCCITY')\n",
        "data['BEDSREMAIN'] = data['TOTALBEDS'] - data['Confirmed'] + data['Deaths']\n",
        "data.to_csv('finaldata.csv',index=False)"
      ],
      "execution_count": 249,
      "outputs": [
        {
          "output_type": "stream",
          "text": [
            "/usr/local/lib/python3.6/dist-packages/ipykernel_launcher.py:4: FutureWarning: Indexing with multiple keys (implicitly converted to a tuple of keys) will be deprecated, use a list instead.\n",
            "  after removing the cwd from sys.path.\n"
          ],
          "name": "stderr"
        }
      ]
    },
    {
      "cell_type": "markdown",
      "metadata": {
        "id": "a_yDLox8wRrZ",
        "colab_type": "text"
      },
      "source": [
        "# **Analysis**"
      ]
    },
    {
      "cell_type": "code",
      "metadata": {
        "id": "ttsdkUb_nptL",
        "colab_type": "code",
        "colab": {}
      },
      "source": [
        "import pandas as pd\n",
        "data = pd.read_csv('finaldata.csv')\n",
        "\n",
        "from datetime import datetime, timedelta\n",
        "\n",
        "def get_monday(x):\n",
        "  dt = datetime.strptime(x, '%m/%d/%y')\n",
        "  start = dt - timedelta(days=dt.weekday())\n",
        "  return start\n",
        "\n",
        "data['monday'] = data['Date'].apply(get_monday)\n",
        "\n",
        "def get_df_list():\n",
        "  df_list = []\n",
        "  city_list = []\n",
        "  for city in list(data['MLOCCITY'].unique()):\n",
        "    df = data[data['MLOCCITY'] == city]\n",
        "    df = df.iloc[:,-2:]\n",
        "    df = pd.DataFrame(df.groupby('monday').sum())\n",
        "    df.reset_index(drop=True, inplace=True)\n",
        "    df.reset_index(inplace=True)\n",
        "    df.rename(columns={'index': 'WEEKNUMBER'}, inplace=True)\n",
        "    df['WEEKNUMBER'] = df['WEEKNUMBER'] + 1\n",
        "    df['BEDSREMAIN'].mask(df['BEDSREMAIN']<0,0, inplace=True)\n",
        "    df_list.append(df)\n",
        "    city_list.append(city)\n",
        "  return df_list, city_list\n",
        "\n",
        "df_list, city_list = get_df_list()\n",
        "\n",
        "#dfrate = pd.DataFrame(data.groupby('monday')['Confirmed','Deaths'].sum())\n",
        "\n",
        "#dfrate['confirmedrate'] = dfrate['Confirmed']/7\n",
        "#dfrate['deathrate'] = dfrate['Deaths']/7\n",
        "#dfrate.drop(['Confirmed','Deaths'], axis=1, inplace=True)\n",
        "\n",
        "#finaldata = pd.merge(data, dfrate, how='left', on='monday')"
      ],
      "execution_count": 0,
      "outputs": []
    },
    {
      "cell_type": "code",
      "metadata": {
        "id": "Wht99XiB1PK7",
        "colab_type": "code",
        "colab": {
          "base_uri": "https://localhost:8080/",
          "height": 33
        },
        "outputId": "cdcd3aed-8cf0-417b-e4d9-f44f10045bfc"
      },
      "source": [
        "city_list[0]"
      ],
      "execution_count": 3,
      "outputs": [
        {
          "output_type": "execute_result",
          "data": {
            "text/plain": [
              "'Pleasanton'"
            ]
          },
          "metadata": {
            "tags": []
          },
          "execution_count": 3
        }
      ]
    },
    {
      "cell_type": "code",
      "metadata": {
        "id": "a-CZx0UCc-CM",
        "colab_type": "code",
        "colab": {
          "base_uri": "https://localhost:8080/",
          "height": 507
        },
        "outputId": "e3579117-2dba-499e-d374-428d2447fcd5"
      },
      "source": [
        "df_list[0]"
      ],
      "execution_count": 4,
      "outputs": [
        {
          "output_type": "execute_result",
          "data": {
            "text/html": [
              "<div>\n",
              "<style scoped>\n",
              "    .dataframe tbody tr th:only-of-type {\n",
              "        vertical-align: middle;\n",
              "    }\n",
              "\n",
              "    .dataframe tbody tr th {\n",
              "        vertical-align: top;\n",
              "    }\n",
              "\n",
              "    .dataframe thead th {\n",
              "        text-align: right;\n",
              "    }\n",
              "</style>\n",
              "<table border=\"1\" class=\"dataframe\">\n",
              "  <thead>\n",
              "    <tr style=\"text-align: right;\">\n",
              "      <th></th>\n",
              "      <th>WEEKNUMBER</th>\n",
              "      <th>BEDSREMAIN</th>\n",
              "    </tr>\n",
              "  </thead>\n",
              "  <tbody>\n",
              "    <tr>\n",
              "      <th>0</th>\n",
              "      <td>1</td>\n",
              "      <td>4565</td>\n",
              "    </tr>\n",
              "    <tr>\n",
              "      <th>1</th>\n",
              "      <td>2</td>\n",
              "      <td>6391</td>\n",
              "    </tr>\n",
              "    <tr>\n",
              "      <th>2</th>\n",
              "      <td>3</td>\n",
              "      <td>6391</td>\n",
              "    </tr>\n",
              "    <tr>\n",
              "      <th>3</th>\n",
              "      <td>4</td>\n",
              "      <td>6391</td>\n",
              "    </tr>\n",
              "    <tr>\n",
              "      <th>4</th>\n",
              "      <td>5</td>\n",
              "      <td>6391</td>\n",
              "    </tr>\n",
              "    <tr>\n",
              "      <th>5</th>\n",
              "      <td>6</td>\n",
              "      <td>6391</td>\n",
              "    </tr>\n",
              "    <tr>\n",
              "      <th>6</th>\n",
              "      <td>7</td>\n",
              "      <td>6383</td>\n",
              "    </tr>\n",
              "    <tr>\n",
              "      <th>7</th>\n",
              "      <td>8</td>\n",
              "      <td>6347</td>\n",
              "    </tr>\n",
              "    <tr>\n",
              "      <th>8</th>\n",
              "      <td>9</td>\n",
              "      <td>6091</td>\n",
              "    </tr>\n",
              "    <tr>\n",
              "      <th>9</th>\n",
              "      <td>10</td>\n",
              "      <td>5138</td>\n",
              "    </tr>\n",
              "    <tr>\n",
              "      <th>10</th>\n",
              "      <td>11</td>\n",
              "      <td>3736</td>\n",
              "    </tr>\n",
              "    <tr>\n",
              "      <th>11</th>\n",
              "      <td>12</td>\n",
              "      <td>1528</td>\n",
              "    </tr>\n",
              "    <tr>\n",
              "      <th>12</th>\n",
              "      <td>13</td>\n",
              "      <td>0</td>\n",
              "    </tr>\n",
              "    <tr>\n",
              "      <th>13</th>\n",
              "      <td>14</td>\n",
              "      <td>0</td>\n",
              "    </tr>\n",
              "    <tr>\n",
              "      <th>14</th>\n",
              "      <td>15</td>\n",
              "      <td>0</td>\n",
              "    </tr>\n",
              "    <tr>\n",
              "      <th>15</th>\n",
              "      <td>16</td>\n",
              "      <td>0</td>\n",
              "    </tr>\n",
              "  </tbody>\n",
              "</table>\n",
              "</div>"
            ],
            "text/plain": [
              "    WEEKNUMBER  BEDSREMAIN\n",
              "0            1        4565\n",
              "1            2        6391\n",
              "2            3        6391\n",
              "3            4        6391\n",
              "4            5        6391\n",
              "5            6        6391\n",
              "6            7        6383\n",
              "7            8        6347\n",
              "8            9        6091\n",
              "9           10        5138\n",
              "10          11        3736\n",
              "11          12        1528\n",
              "12          13           0\n",
              "13          14           0\n",
              "14          15           0\n",
              "15          16           0"
            ]
          },
          "metadata": {
            "tags": []
          },
          "execution_count": 4
        }
      ]
    },
    {
      "cell_type": "code",
      "metadata": {
        "id": "Scg-KEWRj8-V",
        "colab_type": "code",
        "colab": {
          "base_uri": "https://localhost:8080/",
          "height": 70
        },
        "outputId": "cb774bbd-9b85-4983-a880-3eac0156c7f8"
      },
      "source": [
        "from sklearn.model_selection import train_test_split\n",
        "from sklearn.linear_model import LinearRegression\n",
        "from sklearn.externals import joblib\n",
        "\n",
        "def fit_regression(df, cityname):\n",
        "  X = df['WEEKNUMBER'].to_numpy().reshape(-1,1)\n",
        "  y = df['BEDSREMAIN'].to_numpy().reshape(-1,1)\n",
        "  X_train, X_test, y_train, y_test = train_test_split(X, y, random_state=23, train_size=0.7, test_size=0.3)\n",
        "  lr = LinearRegression()\n",
        "  lr.fit(X_train, y_train)\n",
        "  filename = \"linmodel_\" + cityname\n",
        "  joblib.dump(lr, filename)\n",
        "  y_pred = lr.predict(X_test)\n",
        "  return (y_test, y_pred)\n",
        "\n",
        "y_tup_list = []\n",
        "for i in range(len(df_list)):\n",
        "  y_tup_list.append(fit_regression(df_list[i], city_list[i]))"
      ],
      "execution_count": 5,
      "outputs": [
        {
          "output_type": "stream",
          "text": [
            "/usr/local/lib/python3.6/dist-packages/sklearn/externals/joblib/__init__.py:15: FutureWarning: sklearn.externals.joblib is deprecated in 0.21 and will be removed in 0.23. Please import this functionality directly from joblib, which can be installed with: pip install joblib. If this warning is raised when loading pickled models, you may need to re-serialize those models with scikit-learn 0.21+.\n",
            "  warnings.warn(msg, category=FutureWarning)\n"
          ],
          "name": "stderr"
        }
      ]
    },
    {
      "cell_type": "code",
      "metadata": {
        "id": "pSXh_yQ3knbg",
        "colab_type": "code",
        "colab": {}
      },
      "source": [
        "from sklearn import metrics \n",
        "import numpy as np\n",
        "\n",
        "error_list = []\n",
        "for i in range(len(city_list)):\n",
        "  error_list.append(np.sqrt(metrics.mean_squared_error(y_tup_list[i][0], y_tup_list[i][1])))\n",
        "\n",
        "dup_finaldata = pd.DataFrame(city_list, columns=['City'])\n",
        "dup_finaldata['errors'] = error_list\n",
        "dup_finaldata.set_index('City',inplace=True)\n",
        "error_df = dup_finaldata.merge(pd.Series(data.groupby(['MLOCCITY'])['TOTALBEDS'].sum()), how='left', left_index=True, right_index=True)\n",
        "error_df.to_csv('error.csv')"
      ],
      "execution_count": 0,
      "outputs": []
    },
    {
      "cell_type": "markdown",
      "metadata": {
        "id": "PsWJ4uci-Rbs",
        "colab_type": "text"
      },
      "source": [
        "## **PREDICTIVE MODEL**"
      ]
    },
    {
      "cell_type": "code",
      "metadata": {
        "id": "e4EMrw632w__",
        "colab_type": "code",
        "colab": {}
      },
      "source": [
        "def get_prediction(city, weeknum):\n",
        "  \"\"\"\n",
        "  Predicts the total number of beds remaining in hospitals in a given city on a given week number.\n",
        "  Week 1 is the week of January 20, 2020.\n",
        "\n",
        "  Args:\n",
        "    city: A city within the state of California, New York, or Washington\n",
        "    weeknum: integer larger than 0\n",
        "\n",
        "  \"\"\"\n",
        "  filename = \"linmodel_\"+ city\n",
        "  lr = joblib.load(filename) # load trained linear model\n",
        "  y_pred = lr.predict(np.array([weeknum]).reshape(-1,1)) \n",
        "  if y_pred[0][0] < 0: # return 0 if negative\n",
        "    pred = 0\n",
        "  else:\n",
        "    pred = y_pred[0][0]\n",
        "\n",
        "  print(f\"The total number of beds remaining in {city} on week {weeknum} is {int(pred)}.\")"
      ],
      "execution_count": 0,
      "outputs": []
    },
    {
      "cell_type": "code",
      "metadata": {
        "id": "Xhobuvmm9h8K",
        "colab_type": "code",
        "colab": {
          "base_uri": "https://localhost:8080/",
          "height": 33
        },
        "outputId": "adbf6a43-6e94-41c3-8b79-48b951f0c293"
      },
      "source": [
        "get_prediction(\"New York\", 15)"
      ],
      "execution_count": 27,
      "outputs": [
        {
          "output_type": "stream",
          "text": [
            "The total number of beds remaining in New York on week 15 is 26443.\n"
          ],
          "name": "stdout"
        }
      ]
    },
    {
      "cell_type": "code",
      "metadata": {
        "id": "SVF4qZv69s4u",
        "colab_type": "code",
        "colab": {
          "base_uri": "https://localhost:8080/",
          "height": 33
        },
        "outputId": "33e224c5-5927-4d4b-b9f6-5db1af7d5783"
      },
      "source": [
        "get_prediction(\"New York\", 17)"
      ],
      "execution_count": 28,
      "outputs": [
        {
          "output_type": "stream",
          "text": [
            "The total number of beds remaining in New York on week 17 is 0.\n"
          ],
          "name": "stdout"
        }
      ]
    },
    {
      "cell_type": "code",
      "metadata": {
        "id": "z3ujJz3mWADu",
        "colab_type": "code",
        "colab": {}
      },
      "source": [
        ""
      ],
      "execution_count": 0,
      "outputs": []
    }
  ]
}